{
  "nbformat": 4,
  "nbformat_minor": 0,
  "metadata": {
    "colab": {
      "provenance": [],
      "authorship_tag": "ABX9TyNKo2x4nr67KwCDmjSF8V1F",
      "include_colab_link": true
    },
    "kernelspec": {
      "name": "python3",
      "display_name": "Python 3"
    },
    "language_info": {
      "name": "python"
    }
  },
  "cells": [
    {
      "cell_type": "markdown",
      "metadata": {
        "id": "view-in-github",
        "colab_type": "text"
      },
      "source": [
        "<a href=\"https://colab.research.google.com/github/Zuzed22/Python_Datat_Science.ipynb/blob/main/Desafio2.ipynb\" target=\"_parent\"><img src=\"https://colab.research.google.com/assets/colab-badge.svg\" alt=\"Open In Colab\"/></a>"
      ]
    },
    {
      "cell_type": "code",
      "execution_count": 3,
      "metadata": {
        "colab": {
          "base_uri": "https://localhost:8080/"
        },
        "id": "_ewSxfAhhmT3",
        "outputId": "4bf410bf-f54b-448c-c7ed-cde23f1cd186"
      },
      "outputs": [
        {
          "output_type": "stream",
          "name": "stdout",
          "text": [
            "Ingrese su nombre: Zuleika\n",
            "¡Hola, Zuleika!\n"
          ]
        }
      ],
      "source": [
        "nombre = input('Ingrese su nombre: ')\n",
        "print(f'¡Hola, {nombre}!')"
      ]
    },
    {
      "cell_type": "code",
      "source": [
        "nombre = input('Ingrese su nombre: ')\n",
        "edad = int(input('Ingrese su edad: '))\n",
        "print(f'¡Hola, {nombre}, tienes {edad} años!')"
      ],
      "metadata": {
        "colab": {
          "base_uri": "https://localhost:8080/"
        },
        "id": "THweRgXcjb2-",
        "outputId": "b2899985-2bfb-4fc6-d052-11aeb748f4ca"
      },
      "execution_count": 4,
      "outputs": [
        {
          "output_type": "stream",
          "name": "stdout",
          "text": [
            "Ingrese su nombre: Zuleika\n",
            "Ingrese su edad: 33\n",
            "¡Hola, Zuleika, tienes 33 años!\n"
          ]
        }
      ]
    },
    {
      "cell_type": "code",
      "source": [
        "nombre = input('Ingrese su nombre: ')\n",
        "edad = int(input('Ingrese su edad: '))\n",
        "altura = float(input('Ingrese su altura: '))\n",
        "print(f'¡Hola, {nombre}, tienes {edad} años y mides {altura} metros')"
      ],
      "metadata": {
        "colab": {
          "base_uri": "https://localhost:8080/"
        },
        "id": "BKJYFVs3kKcK",
        "outputId": "99d97a28-397d-4f74-8c67-b98c66ca83c1"
      },
      "execution_count": 7,
      "outputs": [
        {
          "output_type": "stream",
          "name": "stdout",
          "text": [
            "Ingrese su nombre: Zuleika\n",
            "Ingrese su edad: 33\n",
            "Ingrese su altura: 1.51\n",
            "¡Hola, Zuleika, tienes 33 años y mides 1.51 metros\n"
          ]
        }
      ]
    },
    {
      "cell_type": "code",
      "source": [
        "i = int(input('Ingrese el primer valor: '))\n",
        "o = int(input('Ingrese el segundo valor: '))\n",
        "print(i + o)"
      ],
      "metadata": {
        "colab": {
          "base_uri": "https://localhost:8080/"
        },
        "id": "yNMMDuLTntVK",
        "outputId": "fc66f56a-0e2f-4f52-a0d9-0419ce7846f8"
      },
      "execution_count": 10,
      "outputs": [
        {
          "output_type": "stream",
          "name": "stdout",
          "text": [
            "Ingrese el primer valor: 59\n",
            "Ingrese el segundo valor: 68\n",
            "127\n"
          ]
        }
      ]
    },
    {
      "cell_type": "code",
      "source": [
        "i = int(input('Ingrese el primer valor: '))\n",
        "o = int(input('Ingrese el segundo valor: '))\n",
        "u = int(input('Ingrese el tercer valor: '))\n",
        "print(i + o + u)"
      ],
      "metadata": {
        "colab": {
          "base_uri": "https://localhost:8080/"
        },
        "id": "bX5dHzviobju",
        "outputId": "062895cb-cc3d-4b54-87a6-a953cf12f6a7"
      },
      "execution_count": 11,
      "outputs": [
        {
          "output_type": "stream",
          "name": "stdout",
          "text": [
            "Ingrese el primer valor: 59\n",
            "Ingrese el segundo valor: 68\n",
            "Ingrese el tercer valor: 75\n",
            "202\n"
          ]
        }
      ]
    },
    {
      "cell_type": "code",
      "source": [
        "i = int(input('Ingrese el primer valor: '))\n",
        "o = int(input('Ingrese el segundo valor: '))\n",
        "print(i - o)"
      ],
      "metadata": {
        "colab": {
          "base_uri": "https://localhost:8080/"
        },
        "id": "mZrhDrSjo8Db",
        "outputId": "2682d87d-f9af-4267-98c2-2d33a3aaaf62"
      },
      "execution_count": 12,
      "outputs": [
        {
          "output_type": "stream",
          "name": "stdout",
          "text": [
            "Ingrese el primer valor: 59\n",
            "Ingrese el segundo valor: 68\n",
            "-9\n"
          ]
        }
      ]
    },
    {
      "cell_type": "code",
      "source": [
        "i = int(input('Ingrese el primer valor: '))\n",
        "o = int(input('Ingrese el segundo valor: '))\n",
        "print(i * o)"
      ],
      "metadata": {
        "colab": {
          "base_uri": "https://localhost:8080/"
        },
        "id": "p8rrZXVdqXRc",
        "outputId": "e65c1f58-c0d9-4bd9-d535-276144185685"
      },
      "execution_count": 13,
      "outputs": [
        {
          "output_type": "stream",
          "name": "stdout",
          "text": [
            "Ingrese el primer valor: 59\n",
            "Ingrese el segundo valor: 68\n",
            "4012\n"
          ]
        }
      ]
    },
    {
      "cell_type": "code",
      "source": [
        "numerador = int(input('Ingrese el numerador: '))\n",
        "denominador = int(input('Ingrese el denominador: '))\n",
        "print(numerador / denominador)"
      ],
      "metadata": {
        "colab": {
          "base_uri": "https://localhost:8080/"
        },
        "id": "D0UurevEqfej",
        "outputId": "d0078d5a-785f-4b01-eeb5-0c3459711823"
      },
      "execution_count": 16,
      "outputs": [
        {
          "output_type": "stream",
          "name": "stdout",
          "text": [
            "Ingrese el numerador: 59\n",
            "Ingrese el denominador: 68\n",
            "0.8676470588235294\n"
          ]
        }
      ]
    },
    {
      "cell_type": "code",
      "source": [
        "operador = int(input('Ingrese el operador: '))\n",
        "potencia = int(input('Ingrese el potencia: '))\n",
        "print(operador ** potencia)"
      ],
      "metadata": {
        "colab": {
          "base_uri": "https://localhost:8080/"
        },
        "id": "uoujiyJZrpj0",
        "outputId": "969e188c-d3ba-4efb-bc02-87e8ead93d6f"
      },
      "execution_count": 18,
      "outputs": [
        {
          "output_type": "stream",
          "name": "stdout",
          "text": [
            "Ingrese el operador: 59\n",
            "Ingrese el potencia: 68\n",
            "2617801978868958199687403202890777834583921958183322297822211999305011700755250408323503478619597629751928653926703940721\n"
          ]
        }
      ]
    },
    {
      "cell_type": "code",
      "source": [
        "numerador = int(input('Ingrese el numerador: '))\n",
        "denominador = int(input('Ingrese el denominador: '))\n",
        "print(numerador // denominador)"
      ],
      "metadata": {
        "colab": {
          "base_uri": "https://localhost:8080/"
        },
        "id": "KNaHZ61KuKR8",
        "outputId": "8023900a-f779-4228-df4e-9d9ac77ed50e"
      },
      "execution_count": 21,
      "outputs": [
        {
          "output_type": "stream",
          "name": "stdout",
          "text": [
            "Ingrese el numerador: 68\n",
            "Ingrese el denominador: 59\n",
            "1\n"
          ]
        }
      ]
    },
    {
      "cell_type": "code",
      "source": [
        "numerador = int(input('Ingrese el numerador: '))\n",
        "denominador = int(input('Ingrese el denominador: '))\n",
        "print(numerador % denominador)"
      ],
      "metadata": {
        "colab": {
          "base_uri": "https://localhost:8080/"
        },
        "id": "8KZSrXpZw86h",
        "outputId": "2e51ff8f-b0df-4356-f9f8-4ff2f802dbb8"
      },
      "execution_count": 23,
      "outputs": [
        {
          "output_type": "stream",
          "name": "stdout",
          "text": [
            "Ingrese el numerador: 68\n",
            "Ingrese el denominador: 59\n",
            "9\n"
          ]
        }
      ]
    },
    {
      "cell_type": "code",
      "source": [
        "nota_1 = float(input('Ingrese la 1° nota: '))\n",
        "nota_2 = float(input('Ingrese la 2° nota: '))\n",
        "nota_3 = float(input('Ingrese la 3° nota: '))\n",
        "print(f'Media {(nota_1 + nota_2 + nota_3) /3}. ')"
      ],
      "metadata": {
        "colab": {
          "base_uri": "https://localhost:8080/"
        },
        "id": "5qT8zZGVzq8m",
        "outputId": "109b632f-a5ea-42cf-c5ab-d449564f5582"
      },
      "execution_count": 24,
      "outputs": [
        {
          "output_type": "stream",
          "name": "stdout",
          "text": [
            "Ingrese la 1° nota: 15\n",
            "Ingrese la 2° nota: 17\n",
            "Ingrese la 3° nota: 19\n",
            "Media 17.0. \n"
          ]
        }
      ]
    },
    {
      "cell_type": "code",
      "source": [
        "media_ponderada = (5*1 + 12*2 + 20*3 + 15*4) / (1+2+3+4)\n",
        "print(f'Media {media_ponderada}')"
      ],
      "metadata": {
        "colab": {
          "base_uri": "https://localhost:8080/"
        },
        "id": "-qg92MH-4DT8",
        "outputId": "2702a7ca-161f-4957-b627-5dcfbdc14e78"
      },
      "execution_count": 26,
      "outputs": [
        {
          "output_type": "stream",
          "name": "stdout",
          "text": [
            "Media 14.9\n"
          ]
        }
      ]
    },
    {
      "cell_type": "code",
      "source": [
        "frase = '¡Sonríe, porque la vida es hermosa!'\n",
        "print(frase)"
      ],
      "metadata": {
        "colab": {
          "base_uri": "https://localhost:8080/"
        },
        "id": "e-Z7aYb69zkz",
        "outputId": "9d67d026-8e3f-484a-a239-6beb01122120"
      },
      "execution_count": 28,
      "outputs": [
        {
          "output_type": "stream",
          "name": "stdout",
          "text": [
            "¡Sonríe, porque la vida es hermosa!\n"
          ]
        }
      ]
    },
    {
      "cell_type": "code",
      "source": [
        "frase = input('Escribe una frase: ')\n",
        "print(frase)"
      ],
      "metadata": {
        "colab": {
          "base_uri": "https://localhost:8080/"
        },
        "id": "TGEDjGuk-aHT",
        "outputId": "9d214bab-610a-4cfc-dc70-3884972da7ba"
      },
      "execution_count": 31,
      "outputs": [
        {
          "output_type": "stream",
          "name": "stdout",
          "text": [
            "Escribe una frase: Todo es posible si lo crees posible\n",
            "Todo es posible si lo crees posible\n"
          ]
        }
      ]
    },
    {
      "cell_type": "code",
      "source": [
        "frase = input('Escribe una frase: ')\n",
        "print(frase.upper())"
      ],
      "metadata": {
        "colab": {
          "base_uri": "https://localhost:8080/"
        },
        "id": "RXLuGTsb-wEY",
        "outputId": "388a634f-b210-4aeb-ebfa-dd10708a8946"
      },
      "execution_count": 32,
      "outputs": [
        {
          "output_type": "stream",
          "name": "stdout",
          "text": [
            "Escribe una frase: Las oportunidades no aparecen, las creas\n",
            "LAS OPORTUNIDADES NO APARECEN, LAS CREAS\n"
          ]
        }
      ]
    },
    {
      "cell_type": "code",
      "source": [
        "frase = input('Escribe una frase: ')\n",
        "print(frase.lower())"
      ],
      "metadata": {
        "colab": {
          "base_uri": "https://localhost:8080/"
        },
        "id": "p8mrJiCC_2N3",
        "outputId": "edcfc2fa-635a-41dd-ec5b-6721d67e21e1"
      },
      "execution_count": 33,
      "outputs": [
        {
          "output_type": "stream",
          "name": "stdout",
          "text": [
            "Escribe una frase: Si puedes imaginarlo, puedes hacerlo\n",
            "si puedes imaginarlo, puedes hacerlo\n"
          ]
        }
      ]
    },
    {
      "cell_type": "code",
      "source": [
        "frase = '   ¡Los ríos lo saben: no hay prisa. Algún día llegaremos! '\n",
        "print(frase.strip())"
      ],
      "metadata": {
        "colab": {
          "base_uri": "https://localhost:8080/"
        },
        "id": "Ox-ItOFxBOKh",
        "outputId": "8b394488-b02a-4f6c-fca5-3a4b14d3528d"
      },
      "execution_count": 36,
      "outputs": [
        {
          "output_type": "stream",
          "name": "stdout",
          "text": [
            "¡Los ríos lo saben: no hay prisa. Algún día llegaremos!\n"
          ]
        }
      ]
    },
    {
      "cell_type": "code",
      "source": [
        "frase = input('Escribe una frase: ')\n",
        "print(frase.strip())"
      ],
      "metadata": {
        "colab": {
          "base_uri": "https://localhost:8080/"
        },
        "id": "1Te96_99B1tV",
        "outputId": "4044efc7-1985-4d25-f9a7-cf45316b4af2"
      },
      "execution_count": 37,
      "outputs": [
        {
          "output_type": "stream",
          "name": "stdout",
          "text": [
            "Escribe una frase: Los ríos lo saben: no hay prisa. Algún día l legaremos\n",
            "Los ríos lo saben: no hay prisa. Algún día l legaremos\n"
          ]
        }
      ]
    },
    {
      "cell_type": "code",
      "source": [
        "frase = input('Escribe una frase: ')\n",
        "print(frase.strip().lower())"
      ],
      "metadata": {
        "colab": {
          "base_uri": "https://localhost:8080/"
        },
        "id": "EBmelx2kCY_g",
        "outputId": "c5afaa22-434c-42fa-c929-a495fda9d22b"
      },
      "execution_count": 38,
      "outputs": [
        {
          "output_type": "stream",
          "name": "stdout",
          "text": [
            "Escribe una frase: Los ríos lo saben: no hay prisa. Algún día llegaremos\n",
            "los ríos lo saben: no hay prisa. algún día llegaremos\n"
          ]
        }
      ]
    },
    {
      "cell_type": "code",
      "source": [
        "frase = input('Escribe una frase: ')\n",
        "print(frase.lower().replace('e','f'))"
      ],
      "metadata": {
        "colab": {
          "base_uri": "https://localhost:8080/"
        },
        "id": "ceV08XdfDvfS",
        "outputId": "9011da1b-37f3-430a-de92-eca731a18a3a"
      },
      "execution_count": 39,
      "outputs": [
        {
          "output_type": "stream",
          "name": "stdout",
          "text": [
            "Escribe una frase: Los ríos lo saben: no hay prisa. Algún día llegaremos\n",
            "los ríos lo sabfn: no hay prisa. algún día llfgarfmos\n"
          ]
        }
      ]
    },
    {
      "cell_type": "code",
      "source": [
        "frase = input('Escribe una frase: ')\n",
        "print(frase.replace('a',chr(64)))"
      ],
      "metadata": {
        "colab": {
          "base_uri": "https://localhost:8080/"
        },
        "id": "oUZFlG00EPjC",
        "outputId": "44fbd2d9-73b1-432d-dede-033122ac351f"
      },
      "execution_count": 42,
      "outputs": [
        {
          "output_type": "stream",
          "name": "stdout",
          "text": [
            "Escribe una frase: Los ríos lo saben: no hay prisa. Algún día llegaremos\n",
            "Los ríos lo s@ben: no h@y pris@. Algún dí@ lleg@remos\n"
          ]
        }
      ]
    },
    {
      "cell_type": "code",
      "source": [
        "frase = input('Escribe una frase: ')\n",
        "print(frase.replace('s',chr(36)))"
      ],
      "metadata": {
        "colab": {
          "base_uri": "https://localhost:8080/"
        },
        "id": "P_30qVCAEkDd",
        "outputId": "d7756b19-e8bd-4cbc-c457-a688f1a5d2e5"
      },
      "execution_count": 43,
      "outputs": [
        {
          "output_type": "stream",
          "name": "stdout",
          "text": [
            "Escribe una frase: Los ríos lo saben: no hay prisa. Algún día llegaremos\n",
            "Lo$ río$ lo $aben: no hay pri$a. Algún día llegaremo$\n"
          ]
        }
      ]
    }
  ]
}