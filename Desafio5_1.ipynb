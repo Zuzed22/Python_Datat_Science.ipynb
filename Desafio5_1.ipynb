{
  "nbformat": 4,
  "nbformat_minor": 0,
  "metadata": {
    "colab": {
      "provenance": [],
      "authorship_tag": "ABX9TyOkRcl0KVUJ1Lu1nY+w6mMW",
      "include_colab_link": true
    },
    "kernelspec": {
      "name": "python3",
      "display_name": "Python 3"
    },
    "language_info": {
      "name": "python"
    }
  },
  "cells": [
    {
      "cell_type": "markdown",
      "metadata": {
        "id": "view-in-github",
        "colab_type": "text"
      },
      "source": [
        "<a href=\"https://colab.research.google.com/github/Zuzed22/Python_Datat_Science.ipynb/blob/main/Desafio5_1.ipynb\" target=\"_parent\"><img src=\"https://colab.research.google.com/assets/colab-badge.svg\" alt=\"Open In Colab\"/></a>"
      ]
    },
    {
      "cell_type": "markdown",
      "source": [
        "1 - Haz un programa que solicite a la persona usuaria ingresar dos números decimales y calcular la división entre estos números. El código debe incluir un manejo de error, indicando el tipo de error que se generó si la división no es posible.\n",
        "\n",
        "Prueba el programa con el segundo valor numérico de la entrada igual a 0. También prueba usando caracteres textuales en la entrada para verificar los tipos de errores que ocurren."
      ],
      "metadata": {
        "id": "d0obi78P-YJK"
      }
    },
    {
      "cell_type": "code",
      "source": [
        "try:\n",
        "    num1 = float(input(\"Ingrese el primer número: \"))\n",
        "    num2 = float(input(\"Ingrese el segundo número: \"))\n",
        "    resultado = num1 / num2\n",
        "    print(\"El resultado de la división es:\", resultado)\n",
        "except ZeroDivisionError:\n",
        "    print(\"Error: No se puede dividir por cero.\")\n",
        "except ValueError as e:\n",
        "    print(f\"Error: {e}\")"
      ],
      "metadata": {
        "colab": {
          "base_uri": "https://localhost:8080/"
        },
        "id": "tHg4wLnX-ZRY",
        "outputId": "c98c17c8-031d-4e2d-c6d8-961318e5059a"
      },
      "execution_count": 10,
      "outputs": [
        {
          "output_type": "stream",
          "name": "stdout",
          "text": [
            "Ingrese el primer número: 8\n",
            "Ingrese el segundo número: 2\n",
            "El resultado de la división es: 4.0\n"
          ]
        }
      ]
    },
    {
      "cell_type": "markdown",
      "source": [
        "2 - Haz un programa que solicite a la persona usuaria ingresar un texto que será una clave a buscar en el siguiente diccionario: edades = {'Júlia': 16, 'Carol': 23, 'Alberto': 19, 'Roberta': 17}, almacenando el resultado del valor en una variable. El código debe incluir un manejo de error KeyError, imprimiendo la información 'Nombre no encontrado' en caso de error, e imprimir el valor si no ocurre ninguno.\n",
        "\n",
        "Prueba el programa con un nombre presente en una de las claves del diccionario y con uno que no esté en el diccionario para verificar el mensaje de error."
      ],
      "metadata": {
        "id": "qfc6L2jl-gLg"
      }
    },
    {
      "cell_type": "code",
      "source": [
        "edades = {'Júlia': 16, 'Carol': 23, 'Alberto': 19, 'Roberta': 17}"
      ],
      "metadata": {
        "id": "g4_bWVeB-hNK"
      },
      "execution_count": 1,
      "outputs": []
    },
    {
      "cell_type": "code",
      "source": [
        "try:\n",
        "    nombre = input(\"Ingrese un nombre para buscar en el diccionario: \")\n",
        "    edad = edades[nombre]\n",
        "    print(f\"La edad de {nombre} es {edad} años.\")\n",
        "except KeyError:\n",
        "    print(\"Error: Nombre no encontrado.\")"
      ],
      "metadata": {
        "colab": {
          "base_uri": "https://localhost:8080/"
        },
        "id": "C9McmppJ-hc_",
        "outputId": "84e5f345-4539-4928-d9fb-e7d606680fb6"
      },
      "execution_count": 12,
      "outputs": [
        {
          "output_type": "stream",
          "name": "stdout",
          "text": [
            "Ingrese un nombre para buscar en el diccionario: Miguel\n",
            "Error: Nombre no encontrado.\n"
          ]
        }
      ]
    },
    {
      "cell_type": "code",
      "source": [
        "try:\n",
        "    nombre = input(\"Ingrese un nombre para buscar en el diccionario: \")\n",
        "    edad = edades[nombre]\n",
        "    print(f\"La edad de {nombre} es {edad} años.\")\n",
        "except KeyError:\n",
        "    print(\"Error: Nombre no encontrado.\")"
      ],
      "metadata": {
        "colab": {
          "base_uri": "https://localhost:8080/"
        },
        "id": "hf137ay6_6FS",
        "outputId": "69d1a03a-5421-4340-b1e4-b141aab0aea8"
      },
      "execution_count": 13,
      "outputs": [
        {
          "output_type": "stream",
          "name": "stdout",
          "text": [
            "Ingrese un nombre para buscar en el diccionario: Carol\n",
            "La edad de Carol es 23 años.\n"
          ]
        }
      ]
    },
    {
      "cell_type": "markdown",
      "source": [
        "3 - Crea una función que reciba una lista como parámetro y convierta todos los valores de la lista a flotantes. La función debe incluir un manejo de error indicando el tipo de error generado y devolver la lista si no ha ocurrido ningún error. Por último, debe tener la cláusula finally para imprimir el texto: 'Fin de la ejecución de la función'."
      ],
      "metadata": {
        "id": "H_DTP491-nii"
      }
    },
    {
      "cell_type": "code",
      "source": [
        "def convertir_a_float(lista):\n",
        "    try:\n",
        "        nueva_lista = [float(valor) for valor in lista]\n",
        "        return nueva_lista\n",
        "    except ValueError as e:\n",
        "        print(f\"Error: {e}\")\n",
        "    finally:\n",
        "        print(\"Fin de la ejecución de la función\")\n",
        "\n",
        "# Ejemplo de uso:\n",
        "lista_original = ['4.5', '2.3', '7.8', '1.2']\n",
        "lista_convertida = convertir_a_float(lista_original)\n",
        "print(lista_convertida)"
      ],
      "metadata": {
        "colab": {
          "base_uri": "https://localhost:8080/"
        },
        "id": "wDQe72at-oJZ",
        "outputId": "faca5329-747f-4e75-d042-4a32226ff165"
      },
      "execution_count": 14,
      "outputs": [
        {
          "output_type": "stream",
          "name": "stdout",
          "text": [
            "Fin de la ejecución de la función\n",
            "[4.5, 2.3, 7.8, 1.2]\n"
          ]
        }
      ]
    },
    {
      "cell_type": "markdown",
      "source": [
        "4 - Crea una función que reciba dos listas como parámetros y agrupe los elementos uno a uno de las listas, formando una lista de tuplas de 3 elementos. El primer y segundo elemento de la tupla son los valores en la posición i de las listas y el tercer elemento es la suma de los valores en la posición i de las listas."
      ],
      "metadata": {
        "id": "UnQ1TCM2-p0K"
      }
    },
    {
      "cell_type": "markdown",
      "source": [
        "La función debe incluir un manejo de error indicando el tipo de error generado y devolver como resultado la lista de tuplas. Si las listas enviadas como parámetro tienen tamaños diferentes, la función debe devolver un IndexError con la frase: 'La cantidad de elementos en cada lista es diferente.'.\n",
        "\n",
        "Datos para probar la función:\n",
        "\n",
        "Valores sin error:"
      ],
      "metadata": {
        "id": "vCasaQBZ-ubL"
      }
    },
    {
      "cell_type": "code",
      "source": [
        "lista1 = [4, 6, 7, 9, 10]\n",
        "lista2 = [-4, 6, 8, 7, 9]"
      ],
      "metadata": {
        "id": "HGHe3sdm-qTQ"
      },
      "execution_count": 2,
      "outputs": []
    },
    {
      "cell_type": "markdown",
      "source": [
        "Listas con tamaños diferentes:"
      ],
      "metadata": {
        "id": "Q1x-j4Aw-02u"
      }
    },
    {
      "cell_type": "code",
      "source": [
        "lista1 = [4, 6, 7, 9, 10, 4]\n",
        "lista2 = [-4, 6, 8, 7, 9]"
      ],
      "metadata": {
        "id": "Vso-tya0-xpA"
      },
      "execution_count": 3,
      "outputs": []
    },
    {
      "cell_type": "markdown",
      "source": [
        "Listas con valores incoherentes:"
      ],
      "metadata": {
        "id": "B3Zc7RG1-7Ie"
      }
    },
    {
      "cell_type": "code",
      "source": [
        "lista1 = [4, 6, 7, 9, 'A']\n",
        "lista2 = [-4, 'E', 8, 7, 9]"
      ],
      "metadata": {
        "id": "lxEsMK1J-8yQ"
      },
      "execution_count": 4,
      "outputs": []
    },
    {
      "cell_type": "code",
      "source": [
        "def agrupar_listas(lista1, lista2):\n",
        "    try:\n",
        "        if len(lista1) != len(lista2):\n",
        "            raise IndexError(\"La cantidad de elementos en cada lista es diferente.\")\n",
        "\n",
        "        lista_resultado = [(lista1[i], lista2[i], lista1[i] + lista2[i]) for i in range(len(lista1))]\n",
        "        return lista_resultado\n",
        "    except TypeError as e:\n",
        "        print(f\"Error: {e}\")\n",
        "    except IndexError as e:\n",
        "        print(f\"Error: {e}\")\n",
        "\n",
        "# Ejemplos de uso:\n",
        "try:\n",
        "    resultado_sin_error = agrupar_listas([4, 6, 7, 9, 10], [-4, 6, 8, 7, 9])\n",
        "    print(resultado_sin_error)\n",
        "\n",
        "    resultado_tamanos_diferentes = agrupar_listas([4, 6, 7, 9, 10, 4], [-4, 6, 8, 7, 9])\n",
        "    print(resultado_tamanos_diferentes)\n",
        "\n",
        "    resultado_valores_incoherentes = agrupar_listas([4, 6, 7, 9, 'A'], [-4, 'E', 8, 7, 9])\n",
        "    print(resultado_valores_incoherentes)\n",
        "except Exception as e:\n",
        "    print(f\"Error general: {e}\")"
      ],
      "metadata": {
        "colab": {
          "base_uri": "https://localhost:8080/"
        },
        "id": "ZDZTW06z-9oh",
        "outputId": "2c08b276-e3cc-407b-eccd-398f21be13b0"
      },
      "execution_count": 15,
      "outputs": [
        {
          "output_type": "stream",
          "name": "stdout",
          "text": [
            "[(4, -4, 0), (6, 6, 12), (7, 8, 15), (9, 7, 16), (10, 9, 19)]\n",
            "Error: La cantidad de elementos en cada lista es diferente.\n",
            "None\n",
            "Error: unsupported operand type(s) for +: 'int' and 'str'\n",
            "None\n"
          ]
        }
      ]
    },
    {
      "cell_type": "markdown",
      "source": [
        "##Proyectos"
      ],
      "metadata": {
        "id": "yug2gRRyBgoy"
      }
    },
    {
      "cell_type": "markdown",
      "source": [
        "5 - Como desafío, se te ha asignado la tarea de desarrollar un código que contabiliza las puntuaciones de estudiantes de una institución educativa de acuerdo con sus respuestas en una prueba. Este código debe ser probado para un ejemplo de 3 estudiantes con una lista de listas en la que cada lista tiene las respuestas de 5 preguntas objetivas de cada estudiante. Cada pregunta vale un punto y las alternativas posibles son A, B, C o D.\n",
        "\n",
        "Si alguna alternativa en una de las pruebas no está entre las alternativas posibles, debes lanzar un ValueError con el mensaje \"La alternativa [alternativa] no es una opción de alternativa válida\". El cálculo de las 3 notas solo se realizará mediante las entradas con las alternativas A, B, C o D en todas las pruebas. Si no se lanza la excepción, se mostrará una lista con las notas en cada prueba.\n",
        "\n",
        "Datos para la prueba del código:\n",
        "\n",
        "Respuestas de la prueba:"
      ],
      "metadata": {
        "id": "pmvDbsBY-9_t"
      }
    },
    {
      "cell_type": "code",
      "source": [
        "respuestas = ['D', 'A', 'B', 'C', 'A']"
      ],
      "metadata": {
        "id": "PbuirmYB_BTi"
      },
      "execution_count": 6,
      "outputs": []
    },
    {
      "cell_type": "markdown",
      "source": [
        "A continuación, hay 2 listas de listas que puedes usar como prueba:\n",
        "\n",
        "Notas sin excepción:"
      ],
      "metadata": {
        "id": "vurzkSJJ_G26"
      }
    },
    {
      "cell_type": "code",
      "source": [
        "tests_sin_ex = [['D', 'A', 'B', 'C', 'A'], ['C', 'A', 'A', 'C', 'A'], ['D', 'B', 'A', 'C', 'A']]"
      ],
      "metadata": {
        "id": "MtQEQjwS_I9r"
      },
      "execution_count": 5,
      "outputs": []
    },
    {
      "cell_type": "markdown",
      "source": [
        "Notas con excepción:\n"
      ],
      "metadata": {
        "id": "IKbDySXb_O_P"
      }
    },
    {
      "cell_type": "code",
      "source": [
        "tests_con_ex = [['D', 'A', 'B', 'C', 'A'], ['C', 'A', 'A', 'E', 'A'], ['D', 'B', 'A', 'C', 'A']]"
      ],
      "metadata": {
        "id": "zdzsD63A_R6w"
      },
      "execution_count": 7,
      "outputs": []
    },
    {
      "cell_type": "code",
      "source": [
        "def corrector(tests: list):\n",
        "  puntuaciones = []\n",
        "  try:\n",
        "    for test in tests:\n",
        "      nota = 0\n",
        "      for i in range(len(test)):\n",
        "        if test[i] not in ['A', 'B', 'C', 'D']:\n",
        "          raise ValueError(f'La alternativa {test[i]} no es una opción de alternativa válida')\n",
        "        elif test[i] == respuesta[i]:\n",
        "          nota += 1\n",
        "      puntuaciones.append(nota)\n",
        "  except Exception as e:\n",
        "    print(e)\n",
        "  else:\n",
        "    return puntuaciones"
      ],
      "metadata": {
        "id": "obgi8TYvASgr"
      },
      "execution_count": 16,
      "outputs": []
    },
    {
      "cell_type": "markdown",
      "source": [
        "6 - Estás trabajando con procesamiento de lenguaje natural (NLP) y, en esta ocasión, tu líder te pidió que crees un fragmento de código que reciba una lista con las palabras separadas de una frase generada por ChatGPT.\n",
        "\n",
        "Necesitas crear una función que evalúe cada palabra de este texto y verifique si el tratamiento para quitar los símbolos de puntuación (',', '.', '!' y '?') se realizó. De lo contrario, se lanzará una excepción del tipo ValueError señalando el primer caso en que se detectó el uso de una puntuación a través de la frase \"El texto presenta puntuaciones en la palabra \"[palabra]\"\". Esta solicitud se centra en el análisis del patrón de frases generadas por la inteligencia artificial.\n",
        "\n",
        "Datos para probar el código:\n",
        "\n",
        "Lista tratada:"
      ],
      "metadata": {
        "id": "_0_kzp8E_WEu"
      }
    },
    {
      "cell_type": "code",
      "source": [
        "lista_tratada = ['Python', 'es', 'un', 'lenguaje', 'de', 'programación', 'poderoso', 'versátil',\n",
        "                  'y', 'fácil', 'de', 'aprender', 'utilizado', 'en', 'diversos', 'campos', 'desde',\n",
        "                  'análisis', 'de', 'datos', 'hasta', 'inteligencia', 'artificial']"
      ],
      "metadata": {
        "id": "i8AOTvip_XPp"
      },
      "execution_count": 8,
      "outputs": []
    },
    {
      "cell_type": "markdown",
      "source": [
        "Lista no tratada:"
      ],
      "metadata": {
        "id": "mHScqNrh_c1d"
      }
    },
    {
      "cell_type": "code",
      "source": [
        "lista_no_tratada = ['Python', 'es', 'un', 'lenguaje', 'de', 'programación', 'poderoso,', 'versátil',\n",
        "                  'y', 'fácil,', 'de', 'aprender', 'utilizado', 'en', 'diversos', 'campos,', 'desde',\n",
        "                  'análisis', 'de', 'datos', 'hasta', 'inteligencia', 'artificial!']"
      ],
      "metadata": {
        "id": "XbYZaloS_iZv"
      },
      "execution_count": 9,
      "outputs": []
    },
    {
      "cell_type": "code",
      "source": [
        "def evaluar_puntuacion(lista_palabras):\n",
        "    try:\n",
        "        for palabra in lista_palabras:\n",
        "            if any(puntuacion in palabra for puntuacion in [',', '.', '!', '?']):\n",
        "                raise ValueError(f\"El texto presenta puntuaciones en la palabra '{palabra}'.\")\n",
        "    except ValueError as e:\n",
        "        print(f\"Error: {e}\")"
      ],
      "metadata": {
        "id": "TPLO40Fs_lLz"
      },
      "execution_count": 18,
      "outputs": []
    },
    {
      "cell_type": "code",
      "source": [
        "evaluar_puntuacion(lista_tratada)"
      ],
      "metadata": {
        "id": "ArQThrshA54L"
      },
      "execution_count": 19,
      "outputs": []
    },
    {
      "cell_type": "code",
      "source": [
        "evaluar_puntuacion(lista_no_tratada)"
      ],
      "metadata": {
        "colab": {
          "base_uri": "https://localhost:8080/"
        },
        "id": "2VA69-M1A8Qt",
        "outputId": "20092815-d704-4919-ff27-659892a56991"
      },
      "execution_count": 20,
      "outputs": [
        {
          "output_type": "stream",
          "name": "stdout",
          "text": [
            "Error: El texto presenta puntuaciones en la palabra 'poderoso,'.\n"
          ]
        }
      ]
    },
    {
      "cell_type": "markdown",
      "source": [
        "7 - Función de división de columnas y manejo de excepciones:"
      ],
      "metadata": {
        "id": "gY5GeBYzA_zA"
      }
    },
    {
      "cell_type": "code",
      "source": [
        "# Creando la función que recibe las dos listas y la operación a realizar\n",
        "def divide_columnas(lista_1: list, lista_2: list) -> list:\n",
        "  # try-except que verifica si es posible calcular la división y lanza una excepción si las listas tienen tamaños diferentes\n",
        "  # o si hay alguna división por cero en uno de los cálculos entre los números de las listas\n",
        "  try:\n",
        "    if len(lista_1) != len(lista_2):  # Verificando si las listas tienen el mismo tamaño, si no, lanza una excepción\n",
        "      raise ValueError(\"Las listas deben tener el mismo tamaño\")\n",
        "\n",
        "    # La función zip empareja los elementos de las listas y se genera una lista mediante la división entre las parejas\n",
        "    resultado = [round(a / b, 2) for a, b in zip(lista_1, lista_2)]\n",
        "  except ValueError as e:\n",
        "    print(e)\n",
        "  except ZeroDivisionError as e:\n",
        "    print(f\"{e}: La 2ª lista no puede tener un valor igual a 0\")\n",
        "  else:\n",
        "    return resultado"
      ],
      "metadata": {
        "id": "4Isc3cSRBAUx"
      },
      "execution_count": 21,
      "outputs": []
    },
    {
      "cell_type": "code",
      "source": [
        "# Probando en el ejemplo que no lanza excepciones\n",
        "presiones = [100, 120, 140, 160, 180]\n",
        "temperaturas = [20, 25, 30, 35, 40]\n",
        "\n",
        "divide_columnas(presiones, temperaturas)"
      ],
      "metadata": {
        "colab": {
          "base_uri": "https://localhost:8080/"
        },
        "id": "4klRI-iQBDyz",
        "outputId": "309a2bce-4df4-431c-94e7-b5005dab3b91"
      },
      "execution_count": 22,
      "outputs": [
        {
          "output_type": "execute_result",
          "data": {
            "text/plain": [
              "[5.0, 4.8, 4.67, 4.57, 4.5]"
            ]
          },
          "metadata": {},
          "execution_count": 22
        }
      ]
    },
    {
      "cell_type": "code",
      "source": [
        "# Probando en el ejemplo que lanza una excepción (ZeroDivisionError)\n",
        "presiones = [60, 120, 140, 160, 180]\n",
        "temperaturas = [0, 25, 30, 35, 40]\n",
        "\n",
        "divide_columnas(presiones, temperaturas)"
      ],
      "metadata": {
        "colab": {
          "base_uri": "https://localhost:8080/"
        },
        "id": "4-E29QoGBKrQ",
        "outputId": "49e4cea1-1559-416c-81cc-826fbb7d827e"
      },
      "execution_count": 24,
      "outputs": [
        {
          "output_type": "stream",
          "name": "stdout",
          "text": [
            "division by zero: La 2ª lista no puede tener un valor igual a 0\n"
          ]
        }
      ]
    },
    {
      "cell_type": "code",
      "source": [
        "# Probando en el ejemplo que lanza una excepción (ValueError)\n",
        "presiones = [100, 120, 140, 160]\n",
        "temperaturas = [20, 25, 30, 35, 40]\n",
        "\n",
        "divide_columnas(presiones, temperaturas)"
      ],
      "metadata": {
        "colab": {
          "base_uri": "https://localhost:8080/"
        },
        "id": "p2N9BegMBOOa",
        "outputId": "0910e9d9-a309-4676-a09c-762fb90ddaab"
      },
      "execution_count": 25,
      "outputs": [
        {
          "output_type": "stream",
          "name": "stdout",
          "text": [
            "Las listas deben tener el mismo tamaño\n"
          ]
        }
      ]
    }
  ]
}