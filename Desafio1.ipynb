{
  "nbformat": 4,
  "nbformat_minor": 0,
  "metadata": {
    "colab": {
      "provenance": [],
      "authorship_tag": "ABX9TyMu1D3rqoBvTHFRlRL++h6M",
      "include_colab_link": true
    },
    "kernelspec": {
      "name": "python3",
      "display_name": "Python 3"
    },
    "language_info": {
      "name": "python"
    }
  },
  "cells": [
    {
      "cell_type": "markdown",
      "metadata": {
        "id": "view-in-github",
        "colab_type": "text"
      },
      "source": [
        "<a href=\"https://colab.research.google.com/github/Zuzed22/Python_Datat_Science.ipynb/blob/main/Desafio1.ipynb\" target=\"_parent\"><img src=\"https://colab.research.google.com/assets/colab-badge.svg\" alt=\"Open In Colab\"/></a>"
      ]
    },
    {
      "cell_type": "code",
      "execution_count": 1,
      "metadata": {
        "colab": {
          "base_uri": "https://localhost:8080/"
        },
        "id": "HmYcIoPzNedO",
        "outputId": "b52626bf-9835-4287-c170-5116645a95b7"
      },
      "outputs": [
        {
          "output_type": "stream",
          "name": "stdout",
          "text": [
            "Mi nombre es Zuleika y tengo 33 años y me encanta la ciencia de datos\n"
          ]
        }
      ],
      "source": [
        "print('Mi nombre es Zuleika y tengo 33 años y me encanta la ciencia de datos')"
      ]
    },
    {
      "cell_type": "code",
      "source": [
        "print('Escuela de datos ')"
      ],
      "metadata": {
        "colab": {
          "base_uri": "https://localhost:8080/"
        },
        "id": "h-xygN2QOIRV",
        "outputId": "a43d0f52-671c-4a98-d8b5-7784ca30eb98"
      },
      "execution_count": 2,
      "outputs": [
        {
          "output_type": "stream",
          "name": "stdout",
          "text": [
            "Escuela de datos \n"
          ]
        }
      ]
    },
    {
      "cell_type": "code",
      "source": [
        "print('Nombre: [Zuleika]')\n",
        "print('Apellido: [González]')"
      ],
      "metadata": {
        "colab": {
          "base_uri": "https://localhost:8080/"
        },
        "id": "0NCAZOwEONBm",
        "outputId": "20261b72-be3e-4f32-9bdf-a237110428b8"
      },
      "execution_count": 3,
      "outputs": [
        {
          "output_type": "stream",
          "name": "stdout",
          "text": [
            "Nombre: [Zuleika]\n",
            "Apellido: [González]\n"
          ]
        }
      ]
    },
    {
      "cell_type": "code",
      "source": [
        "print('Z')\n",
        "print('U')\n",
        "print('L')\n",
        "print('E')\n",
        "print('I')\n",
        "print('K')\n",
        "print('A')"
      ],
      "metadata": {
        "colab": {
          "base_uri": "https://localhost:8080/"
        },
        "id": "jM7-8M3nON20",
        "outputId": "3ca45c8c-3a89-48bc-a60e-5d9a969fc4fd"
      },
      "execution_count": 4,
      "outputs": [
        {
          "output_type": "stream",
          "name": "stdout",
          "text": [
            "Z\n",
            "U\n",
            "L\n",
            "E\n",
            "I\n",
            "K\n",
            "A\n"
          ]
        }
      ]
    },
    {
      "cell_type": "code",
      "source": [
        "print(18, 'septiembre', 1991)"
      ],
      "metadata": {
        "colab": {
          "base_uri": "https://localhost:8080/"
        },
        "id": "udpwf9kcOOGe",
        "outputId": "191ab0cc-c672-489e-bc0e-ff1926293c7b"
      },
      "execution_count": 5,
      "outputs": [
        {
          "output_type": "stream",
          "name": "stdout",
          "text": [
            "18 septiembre 1991\n"
          ]
        }
      ]
    },
    {
      "cell_type": "code",
      "source": [
        "print('Año actual:', 2025)"
      ],
      "metadata": {
        "colab": {
          "base_uri": "https://localhost:8080/"
        },
        "id": "K_Oa_U6dOTn6",
        "outputId": "3a93a012-468a-4033-da5a-40ac5c2631d8"
      },
      "execution_count": 6,
      "outputs": [
        {
          "output_type": "stream",
          "name": "stdout",
          "text": [
            "Año actual: 2025\n"
          ]
        }
      ]
    }
  ]
}