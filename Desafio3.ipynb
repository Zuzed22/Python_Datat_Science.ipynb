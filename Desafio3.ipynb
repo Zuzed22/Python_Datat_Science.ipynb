{
  "nbformat": 4,
  "nbformat_minor": 0,
  "metadata": {
    "colab": {
      "provenance": [],
      "authorship_tag": "ABX9TyNkbw3GE0OBvK9gJuARjFlI",
      "include_colab_link": true
    },
    "kernelspec": {
      "name": "python3",
      "display_name": "Python 3"
    },
    "language_info": {
      "name": "python"
    }
  },
  "cells": [
    {
      "cell_type": "markdown",
      "metadata": {
        "id": "view-in-github",
        "colab_type": "text"
      },
      "source": [
        "<a href=\"https://colab.research.google.com/github/Zuzed22/Python_Datat_Science.ipynb/blob/main/Desafio3.ipynb\" target=\"_parent\"><img src=\"https://colab.research.google.com/assets/colab-badge.svg\" alt=\"Open In Colab\"/></a>"
      ]
    },
    {
      "cell_type": "markdown",
      "source": [
        "1 - Escribe un programa que pida a la persona usuaria que proporcione dos números y muestre el número más grande."
      ],
      "metadata": {
        "id": "3fu_dJ4KB01O"
      }
    },
    {
      "cell_type": "code",
      "source": [
        "numero_1 = float(input('Ingresa el primer número: '))\n",
        "numero_2 = float(input('Ingresa el segundo número: '))\n",
        "\n",
        "if numero_1 > numero_2:\n",
        "  print(f'El número mayor es: {numero_1}')\n",
        "elif numero_2 > numero_1:\n",
        "  print(f'El número mayor es: {numero_2}')\n",
        "else:\n",
        "  print('Los números son iguales')"
      ],
      "metadata": {
        "colab": {
          "base_uri": "https://localhost:8080/"
        },
        "id": "d3YW9IvVB46y",
        "outputId": "1190f150-ee6a-40ef-f853-ac7e1b5b91a4"
      },
      "execution_count": 4,
      "outputs": [
        {
          "output_type": "stream",
          "name": "stdout",
          "text": [
            "Ingresa el primer número: 33.2\n",
            "Ingresa el segundo número: 33.3\n",
            "El número mayor es: 33.3\n"
          ]
        }
      ]
    },
    {
      "cell_type": "markdown",
      "source": [
        "2 - Escribe un programa que solicite el porcentaje de crecimiento de producción de una empresa e informe si hubo un crecimiento (porcentaje positivo) o una disminución (porcentaje negativo)."
      ],
      "metadata": {
        "id": "d1d7R7mdDuPP"
      }
    },
    {
      "cell_type": "code",
      "source": [
        "variante = float(input('Ingrese el porcentaje de crecimiento: '))\n",
        "\n",
        "if variante > 0:\n",
        "    print(f'Hubo un crecimiento del {variante}%')\n",
        "elif variante < 0:\n",
        "    print(f'Hubo una disminución del {variante}%')\n",
        "else:\n",
        "    print('No hubo crecimiento ni disminución.')"
      ],
      "metadata": {
        "colab": {
          "base_uri": "https://localhost:8080/"
        },
        "id": "XyKsl8XYDy01",
        "outputId": "b12e83db-5c76-4d66-cf67-052fef1829cc"
      },
      "execution_count": 8,
      "outputs": [
        {
          "output_type": "stream",
          "name": "stdout",
          "text": [
            "Ingrese el porcentaje de crecimiento: -3\n",
            "Hubo una disminución del -3.0%\n"
          ]
        }
      ]
    },
    {
      "cell_type": "markdown",
      "source": [
        "3 - Escribe un programa que determine si una letra proporcionada por la persona usuaria es una vocal o una consonante."
      ],
      "metadata": {
        "id": "OcbSrX5_FS44"
      }
    },
    {
      "cell_type": "code",
      "source": [
        "letra = input('Ingrese una letra: ')\n",
        "\n",
        "vocales = 'a, e, i, o, u'\n",
        "\n",
        "if letra in vocales:\n",
        "    print('La letra es una vocal.')\n",
        "else:\n",
        "    print('La letra es una consonante.')"
      ],
      "metadata": {
        "colab": {
          "base_uri": "https://localhost:8080/"
        },
        "id": "jSCLYV27FWmw",
        "outputId": "7466e1e8-f501-4b8d-898d-c2f5e4229929"
      },
      "execution_count": 13,
      "outputs": [
        {
          "output_type": "stream",
          "name": "stdout",
          "text": [
            "Ingrese una letra: F\n",
            "La letra es una consonante.\n"
          ]
        }
      ]
    },
    {
      "cell_type": "markdown",
      "source": [
        "4 - Escribe un programa que lea valores promedio de precios de un modelo de automóvil durante 3 años consecutivos y muestre el valor más alto y más bajo entre esos tres años."
      ],
      "metadata": {
        "id": "r0xa1DcyGQnk"
      }
    },
    {
      "cell_type": "code",
      "source": [
        "precio_ano1 = float(input('Ingrese el precio promedio del automóvil en el primer año: '))\n",
        "precio_ano2 = float(input('Ingrese el precio promedio del automóvil en el segundo año: '))\n",
        "precio_ano3 = float(input('Ingrese el precio promedio del automóvil en el tercer año: '))\n",
        "\n",
        "mayor = precio_ano1\n",
        "\n",
        "if precio_ano2 > mayor:\n",
        "  mayor = precio_ano2\n",
        "if precio_ano3 > mayor:\n",
        "  mayor = precio_ano3\n",
        "\n",
        "menor = precio_ano1\n",
        "\n",
        "if precio_ano2 < menor:\n",
        "  menor = precio_ano2\n",
        "if precio_ano3 < menor:\n",
        "  menor = precio_ano3\n",
        "\n",
        "print(f'El precio más alto fue de R$ {mayor}.')\n",
        "print(f'El precio más bajo fue de R$ {menor}.')"
      ],
      "metadata": {
        "colab": {
          "base_uri": "https://localhost:8080/"
        },
        "id": "A_VxuOBfGSQd",
        "outputId": "517c268b-42b4-41bc-eceb-b80a18a5d598"
      },
      "execution_count": 15,
      "outputs": [
        {
          "output_type": "stream",
          "name": "stdout",
          "text": [
            "Ingrese el precio promedio del automóvil en el primer año: 9400\n",
            "Ingrese el precio promedio del automóvil en el segundo año: 12300\n",
            "Ingrese el precio promedio del automóvil en el tercer año: 18000\n",
            "El precio más alto fue de R$ 18000.0.\n",
            "El precio más bajo fue de R$ 9400.0.\n"
          ]
        }
      ]
    },
    {
      "cell_type": "markdown",
      "source": [
        "5 - Escribe un programa que pregunte sobre el precio de tres productos e indique cuál es el producto más barato para comprar."
      ],
      "metadata": {
        "id": "_wIHNKdiIij1"
      }
    },
    {
      "cell_type": "code",
      "source": [
        "producto_1 = float(input('Ingrese el precio del primer producto: '))\n",
        "producto_2 = float(input('Ingrese el precio del segundo producto: '))\n",
        "producto_3 = float(input('Ingrese el precio del tercer producto: '))\n",
        "\n",
        "if producto_1 < producto_2 and producto_1 < producto_3:\n",
        "    print('El primer producto es el más barato.')\n",
        "elif producto_2 < producto_1 and producto_2 < producto_3:\n",
        "    print('El segundo producto es el más barato.')\n",
        "else:\n",
        "    print('El tercer producto es el más barato.')"
      ],
      "metadata": {
        "colab": {
          "base_uri": "https://localhost:8080/"
        },
        "id": "oWT27QVsIocg",
        "outputId": "46294f61-6bf8-4af1-8c41-0c841baeeedd"
      },
      "execution_count": 16,
      "outputs": [
        {
          "output_type": "stream",
          "name": "stdout",
          "text": [
            "Ingrese el precio del primer producto: 80\n",
            "Ingrese el precio del segundo producto: 75\n",
            "Ingrese el precio del tercer producto: 78\n",
            "El segundo producto es el más barato.\n"
          ]
        }
      ]
    },
    {
      "cell_type": "markdown",
      "source": [
        "6 - Escribe un programa que lea tres números y los muestre en orden descendente."
      ],
      "metadata": {
        "id": "eK2jUC8lJPC1"
      }
    },
    {
      "cell_type": "code",
      "source": [
        "numero_1 = int(input('Ingrese el primer número: '))\n",
        "numero_2 = int(input('Ingrese el segundo número: '))\n",
        "numero_3 = int(input('Ingrese el tercer número: '))\n",
        "\n",
        "# Comparación entre los 3 números\n",
        "if (numero_1 >= numero_2) and (numero_1 >= numero_3):\n",
        "    print(numero_1)\n",
        "\n",
        "    if numero_2 >= numero_3:\n",
        "        print(numero_2)\n",
        "        print(numero_3)\n",
        "    else:\n",
        "        print(numero_3)\n",
        "        print(numero_2)\n",
        "\n",
        "elif (numero_2 >= numero_1) and (numero_2 >= numero_3):\n",
        "    print(numero_2)\n",
        "\n",
        "    if numero_1 >= numero_3:\n",
        "        print(numero_1)\n",
        "        print(numero_3)\n",
        "    else:\n",
        "        print(numero_3)\n",
        "        print(numero_1)\n",
        "else:\n",
        "    print(numero_3)\n",
        "\n",
        "    if numero_1 >= numero_2:\n",
        "        print(numero_1)\n",
        "        print(numero_2)\n",
        "    else:\n",
        "        print(numero_2)\n",
        "        print(numero_1)"
      ],
      "metadata": {
        "colab": {
          "base_uri": "https://localhost:8080/"
        },
        "id": "FwMQvkqnJTCR",
        "outputId": "7414b053-54e2-4c5c-d606-1fb494b84f3e"
      },
      "execution_count": 18,
      "outputs": [
        {
          "output_type": "stream",
          "name": "stdout",
          "text": [
            "Ingrese el primer número: 9000\n",
            "Ingrese el segundo número: 3000\n",
            "Ingrese el tercer número: 5000\n",
            "9000\n",
            "5000\n",
            "3000\n"
          ]
        }
      ]
    },
    {
      "cell_type": "markdown",
      "source": [
        "7 -Escribe un programa que pregunte en qué turno estudia la persona usuaria (\"mañana\", \"tarde\" o \"noche\") y muestre el mensaje \"¡Buenos Días!\", \"¡Buenas Tardes!\", \"¡Buenas Noches!\" o \"Valor Inválido!\", según el caso."
      ],
      "metadata": {
        "id": "7kdkd5G7KvXS"
      }
    },
    {
      "cell_type": "code",
      "source": [
        "turno = input('Ingresa en qué turno estudias (mañana, tarde o noche): ')\n",
        "\n",
        "# Comparamos la entrada con todas las opciones y mostramos el resultado.\n",
        "if turno == 'mañana':\n",
        "  print('¡Buenos Días!')\n",
        "elif turno == 'tarde':\n",
        "  print('¡Buenas Tardes!')\n",
        "elif turno == 'noche':\n",
        "  print('¡Buenas Noches!')\n",
        "else:\n",
        "  print('¡Valor Inválido!')"
      ],
      "metadata": {
        "colab": {
          "base_uri": "https://localhost:8080/"
        },
        "id": "zEL5BLRJK1is",
        "outputId": "ce7ada10-95ad-49d7-ed13-b6a1a112298e"
      },
      "execution_count": 19,
      "outputs": [
        {
          "output_type": "stream",
          "name": "stdout",
          "text": [
            "Ingresa en qué turno estudias (mañana, tarde o noche): noche\n",
            "¡Buenas Noches!\n"
          ]
        }
      ]
    },
    {
      "cell_type": "markdown",
      "source": [
        "8 - Escribe un programa que solicite un número entero a la persona usuaria y determine si es par o impar. Pista: Puedes usar el operador módulo (%)."
      ],
      "metadata": {
        "id": "yQ61tWJXLUIT"
      }
    },
    {
      "cell_type": "code",
      "source": [
        "numero = int(input('Ingresa un número: '))\n",
        "\n",
        "# Verificamos si el número es par\n",
        "if numero % 8 == 0:\n",
        "    print('El número es par.')\n",
        "else:\n",
        "    print('El número es impar.')"
      ],
      "metadata": {
        "colab": {
          "base_uri": "https://localhost:8080/"
        },
        "id": "ki_FUMJKLbIL",
        "outputId": "44a6ac5a-adf8-4739-c625-f00136d69cdd"
      },
      "execution_count": 22,
      "outputs": [
        {
          "output_type": "stream",
          "name": "stdout",
          "text": [
            "Ingresa un número: 24\n",
            "El número es par.\n"
          ]
        }
      ]
    },
    {
      "cell_type": "markdown",
      "source": [
        "9 - Escribe un programa que pida un número a la persona usuaria y le informe si es entero o decimal."
      ],
      "metadata": {
        "id": "GK_B3r-WL3Ho"
      }
    },
    {
      "cell_type": "code",
      "source": [
        "numero = float(input('Ingresa un número: '))\n",
        "\n",
        "# Verificamos si el número es entero o decimal\n",
        "if numero % 1 == 0:\n",
        "    print('El número es entero.')\n",
        "else:\n",
        "    print('El número es decimal.')"
      ],
      "metadata": {
        "colab": {
          "base_uri": "https://localhost:8080/"
        },
        "id": "4KhhPrdTL776",
        "outputId": "eb967066-259a-4770-8268-0b0a218f3150"
      },
      "execution_count": 27,
      "outputs": [
        {
          "output_type": "stream",
          "name": "stdout",
          "text": [
            "Ingresa un número: 8.22\n",
            "El número es decimal.\n"
          ]
        }
      ]
    },
    {
      "cell_type": "markdown",
      "source": [
        "### **Proyectos**"
      ],
      "metadata": {
        "id": "foZctRnjM240"
      }
    },
    {
      "cell_type": "markdown",
      "source": [
        "10 - Un programa debe ser escrito para leer dos números y luego preguntar a la persona usuaria qué operación desea realizar. El resultado de la operación debe incluir información sobre el número, si es par o impar, positivo o negativo, e entero o decimal."
      ],
      "metadata": {
        "id": "q4iddYRpM-Sg"
      }
    },
    {
      "cell_type": "code",
      "source": [
        "numero_1 = float(input(\"Ingresa el primer número: \"))\n",
        "numero_2 = float(input(\"Ingresa el segundo número: \"))\n",
        "\n",
        "# Solicitar la operación\n",
        "operacion = input(\"¿Qué operación deseas realizar? (+, -, *, /): \")\n",
        "\n",
        "# Verificar y realizar la operación\n",
        "if operacion == \"+\":\n",
        "    resultado = numero_1 + numero_2\n",
        "elif operacion == \"-\":\n",
        "    resultado = numero_1 - numero_2\n",
        "elif operacion == \"*\":\n",
        "    resultado = numero_1 * numero_2\n",
        "elif operacion == \"/\":\n",
        "    if numero_2 != 0:\n",
        "        resultado = numero_1 / numero_2\n",
        "    else:\n",
        "        print('No se puede dividir entre cero.')\n",
        "        resultado = 0\n",
        "else:\n",
        "    print('Operación no válida.')\n",
        "    resultado = 0\n",
        "\n",
        "# Si hubo un resultado válido, analizarlo\n",
        "if resultado % 1 == 0:\n",
        "    print('El resultado es un número entero.')\n",
        "else:\n",
        "    print('El resultado es un número decimal.')\n",
        "\n",
        "if resultado > 0:\n",
        "    print('El resultado es positivo.')\n",
        "else:\n",
        "    print('El resultado es negativo.')\n",
        "\n",
        "if resultado % 2 == 0:\n",
        "    print('El resultado es un número par.')\n",
        "else:\n",
        "    print('El resultado es un número impar.')"
      ],
      "metadata": {
        "colab": {
          "base_uri": "https://localhost:8080/"
        },
        "id": "WhiG2I6xNHAb",
        "outputId": "baa263e8-b593-4d4e-8299-cc3cf624ce21"
      },
      "execution_count": 31,
      "outputs": [
        {
          "output_type": "stream",
          "name": "stdout",
          "text": [
            "Ingresa el primer número: 77.4\n",
            "Ingresa el segundo número: 45\n",
            "¿Qué operación deseas realizar? (+, -, *, /): *\n",
            "El resultado es un número decimal.\n",
            "El resultado es positivo.\n",
            "El resultado es un número impar.\n"
          ]
        }
      ]
    },
    {
      "cell_type": "markdown",
      "source": [
        "11 - Escribe un programa que pida a la persona usuaria tres números que representan los lados de un triángulo. El programa debe informar si los valores pueden utilizarse para formar un triángulo y, en caso afirmativo, si es equilátero, isósceles o escaleno. Ten en cuenta algunas sugerencias:\n",
        "\n",
        "Tres lados forman un triángulo cuando la suma de cualesquiera dos lados es mayor que el tercero;\n",
        "Triángulo Equilátero: tres lados iguales;\n",
        "Triángulo Isósceles: dos lados iguales;\n",
        "Triángulo Escaleno: tres lados diferentes."
      ],
      "metadata": {
        "id": "O3ZYDBu1QuKs"
      }
    },
    {
      "cell_type": "code",
      "source": [
        "print('Estamos recopilando los lados de un triángulo.')\n",
        "\n",
        "# Recolectamos los lados del triángulo\n",
        "lado1 = float(input('Ingresa la longitud del primer lado: '))\n",
        "lado2 = float(input('Ingresa la longitud del segundo lado: '))\n",
        "lado3 = float(input('Ingresa la longitud del tercer lado: '))\n",
        "\n",
        "# Verificamos que los lados sean positivos\n",
        "if lado1 > 0 and lado2 > 0 and lado3 > 0:\n",
        "    # Verificamos si los lados pueden formar un triángulo\n",
        "    if (lado1 + lado2 > lado3) and (lado2 + lado3 > lado1) and (lado1 + lado3 > lado2):\n",
        "        print('¡Los valores pueden formar un triángulo!')\n",
        "        # Comparamos los lados para determinar el tipo de triángulo\n",
        "        if (lado1 == lado2) and (lado2 == lado3):\n",
        "            print('El triángulo es equilátero.')\n",
        "        elif (lado1 != lado2) and (lado2 != lado3) and (lado1 != lado3):\n",
        "            print('El triángulo es escaleno.')\n",
        "        else:\n",
        "            print('El triángulo es isósceles.')\n",
        "    else:\n",
        "        print('¡Los valores no pueden formar un triángulo!')\n",
        "else:\n",
        "    print('Los lados deben ser mayores que cero.')\n"
      ],
      "metadata": {
        "colab": {
          "base_uri": "https://localhost:8080/"
        },
        "id": "an7my8vRQz5a",
        "outputId": "478bdd55-50ed-46ad-e4fd-26aec84625df"
      },
      "execution_count": 38,
      "outputs": [
        {
          "output_type": "stream",
          "name": "stdout",
          "text": [
            "Estamos recopilando los lados de un triángulo.\n",
            "Ingresa la longitud del primer lado: 6\n",
            "Ingresa la longitud del segundo lado: 10\n",
            "Ingresa la longitud del tercer lado: 12.3\n",
            "¡Los valores pueden formar un triángulo!\n",
            "El triángulo es escaleno.\n"
          ]
        }
      ]
    },
    {
      "cell_type": "markdown",
      "source": [
        "12 - Un establecimiento está vendiendo combustibles con descuentos variables. Para el etanol, si la cantidad comprada es de hasta 15 litros, el descuento será del 2% por litro. En caso contrario, será del 4% por litro. Para el diésel, si la cantidad comprada es de hasta 15 litros, el descuento será del 3% por litro. En caso contrario, será del 5% por litro. El precio por litro de diésel es de R$ 2,00 y el precio por litro de etanol es de R$ 1,70. Escribe un programa que lea la cantidad de litros vendidos y el tipo de combustible (E para etanol y D para diésel) y calcule el valor a pagar por el cliente. Ten en cuenta algunas sugerencias:\n",
        "\n",
        "El valor del descuento será el producto del precio por litro, la cantidad de litros y el valor del descuento.\n",
        "El valor a pagar por un cliente será el resultado de la multiplicación del precio por litro por la cantidad de litros menos el valor del descuento resultante del cálculo."
      ],
      "metadata": {
        "id": "Tnj7C2_zS9Lf"
      }
    },
    {
      "cell_type": "code",
      "source": [
        "# Solicitar entrada\n",
        "cantidad_litros = float(input('Ingrese la cantidad de litros vendidos: '))\n",
        "\n",
        "# Validamos que la cantidad de litros sea positiva\n",
        "if cantidad_litros <= 0:\n",
        "    print('La cantidad de litros debe ser mayor a cero.')\n",
        "else:\n",
        "    tipo_combustible = input('Ingrese el tipo de combustible (E para etanol y D para diésel): ').upper()\n",
        "\n",
        "    # Inicializamos variables\n",
        "    precio_litro = 0\n",
        "    descuento = 0\n",
        "    tipo_valido = True\n",
        "\n",
        "    # Verificamos el tipo de combustible\n",
        "    if tipo_combustible == 'E':\n",
        "        precio_litro = 1.70\n",
        "        descuento = 0.02 if cantidad_litros <= 15 else 0.04\n",
        "    elif tipo_combustible == 'D':\n",
        "        precio_litro = 2.00\n",
        "        descuento = 0.03 if cantidad_litros <= 15 else 0.05\n",
        "    else:\n",
        "        print('Tipo de combustible no válido.')\n",
        "        tipo_valido = False\n",
        "\n",
        "    # Si el tipo fue válido, hacemos los cálculos\n",
        "    if tipo_valido:\n",
        "        valor_bruto = precio_litro * cantidad_litros\n",
        "        valor_descuento = valor_bruto * descuento\n",
        "        valor_pagado = valor_bruto - valor_descuento\n",
        "\n",
        "        # Resultado\n",
        "        print('\\n--- Detalle de la compra ---')\n",
        "        print(f'Tipo de combustible: {\"Etanol\" if tipo_combustible == \"E\" else \"Diésel\"}')\n",
        "        print(f'Cantidad de litros: {cantidad_litros} L')\n",
        "        print(f'Precio por litro: R$ {precio_litro:.2f}')\n",
        "        print(f'Descuento aplicado: {descuento * 100:.0f}%')\n",
        "        print(f'Valor del descuento: R$ {valor_descuento:.2f}')\n",
        "        print(f'Valor a pagar por el cliente: R$ {valor_pagado:.2f}')\n"
      ],
      "metadata": {
        "colab": {
          "base_uri": "https://localhost:8080/"
        },
        "id": "P8y4upXyTZR3",
        "outputId": "b102b58b-3ba4-4fde-9fa9-3012ab5b5dc6"
      },
      "execution_count": 39,
      "outputs": [
        {
          "output_type": "stream",
          "name": "stdout",
          "text": [
            "Ingrese la cantidad de litros vendidos: 2.0\n",
            "Ingrese el tipo de combustible (E para etanol y D para diésel): D\n",
            "\n",
            "--- Detalle de la compra ---\n",
            "Tipo de combustible: Diésel\n",
            "Cantidad de litros: 2.0 L\n",
            "Precio por litro: R$ 2.00\n",
            "Descuento aplicado: 3%\n",
            "Valor del descuento: R$ 0.12\n",
            "Valor a pagar por el cliente: R$ 3.88\n"
          ]
        }
      ]
    },
    {
      "cell_type": "markdown",
      "source": [
        "13 - En una empresa de venta de bienes raíces, debes crear un código que analice los datos de ventas anuales para ayudar a la dirección en la toma de decisiones. El código debe recopilar los datos de cantidad de ventas durante los años 2022 y 2023 y calcular la variación porcentual. A partir del valor de la variación, se deben proporcionar las siguientes sugerencias:\n",
        "\n",
        "Para una variación superior al 20%: bonificación para el equipo de ventas.\n",
        "Para una variación entre el 2% y el 20%: pequeña bonificación para el equipo de ventas.\n",
        "Para una variación entre el 2% y el -10%: planificación de políticas de incentivo a las ventas.\n",
        "Para bonificaciones inferiores al -10%: recorte de gastos."
      ],
      "metadata": {
        "id": "JAemmF2OU29_"
      }
    },
    {
      "cell_type": "code",
      "source": [
        "# Recolectamos las ventas de los dos años\n",
        "venta_2022 = float(input('Ingrese la cantidad de ventas en 2022: '))\n",
        "venta_2023 = float(input('Ingrese la cantidad de ventas en 2023: '))\n",
        "\n",
        "# Validación de entradas\n",
        "if venta_2022 < 0 or venta_2023 < 0:\n",
        "    print(\"Las ventas no pueden ser negativas.\")\n",
        "elif venta_2022 == 0:\n",
        "    print(\"No se puede calcular la variación porcentual porque las ventas en 2022 fueron cero.\")\n",
        "else:\n",
        "    # Calculamos la variación porcentual\n",
        "    var_porcentual = 100 * (venta_2023 - venta_2022) / venta_2022\n",
        "\n",
        "    # Mostramos la variación con formato\n",
        "    print(f\"\\nVariación porcentual: {var_porcentual:.2f}%\")\n",
        "\n",
        "    # Análisis condicional\n",
        "    if var_porcentual > 20:\n",
        "        print('Bonificación para el equipo de ventas.')\n",
        "    elif 2 <= var_porcentual <= 20:\n",
        "        print('Pequeña bonificación para el equipo de ventas.')\n",
        "    elif -10 <= var_porcentual < 2:\n",
        "        print('Planificación de políticas de incentivo a las ventas.')\n",
        "    else:\n",
        "        print('Recorte de gastos.')\n"
      ],
      "metadata": {
        "colab": {
          "base_uri": "https://localhost:8080/"
        },
        "id": "beuzWdmxU8rB",
        "outputId": "82e62f3e-de0f-4d57-9d89-c0d22362a29b"
      },
      "execution_count": 42,
      "outputs": [
        {
          "output_type": "stream",
          "name": "stdout",
          "text": [
            "Ingrese la cantidad de ventas en 2022: 100000\n",
            "Ingrese la cantidad de ventas en 2023: 120000\n",
            "\n",
            "Variación porcentual: 20.00%\n",
            "Pequeña bonificación para el equipo de ventas.\n"
          ]
        }
      ]
    }
  ]
}