{
  "nbformat": 4,
  "nbformat_minor": 0,
  "metadata": {
    "colab": {
      "provenance": [],
      "authorship_tag": "ABX9TyMs4ygshdoTn6F/zG8zNcf4",
      "include_colab_link": true
    },
    "kernelspec": {
      "name": "python3",
      "display_name": "Python 3"
    },
    "language_info": {
      "name": "python"
    }
  },
  "cells": [
    {
      "cell_type": "markdown",
      "metadata": {
        "id": "view-in-github",
        "colab_type": "text"
      },
      "source": [
        "<a href=\"https://colab.research.google.com/github/Zuzed22/Python_Datat_Science.ipynb/blob/main/Desafio2_2.ipynb\" target=\"_parent\"><img src=\"https://colab.research.google.com/assets/colab-badge.svg\" alt=\"Open In Colab\"/></a>"
      ]
    },
    {
      "cell_type": "markdown",
      "source": [
        "1 - Escribe un código que lee la lista siguiente y realiza:*texto en cursiva*"
      ],
      "metadata": {
        "id": "6fq6zJiqTWlh"
      }
    },
    {
      "cell_type": "markdown",
      "source": [
        "lista = [16, 14, 63, 65, 17, 99, 70, 11, 20, 48, 79, 32, 17, 89, 12, 25, 66]\n",
        "# 1. Leer el tamaño de la lista\n",
        "# 2. Leer el valor máximo y mínimo\n",
        "# 3. Calcular la suma de los valores de la lista\n",
        "# 4. Mostrar un mensaje al final: La lista tiene `tamano` números, donde el mayor\n",
        "# es `mayor` y el menor es `menor`. La suma de los valores es `suma`.\n",
        "\n",
        "1.   Elemento de la lista\n",
        "2.   Elemento de la lista\n",
        "\n"
      ],
      "metadata": {
        "id": "0cxquqLdTbCj"
      }
    },
    {
      "cell_type": "code",
      "source": [
        "lista = [16, 14, 63, 65, 17, 99, 70, 11, 20, 48, 79, 32, 17, 89, 12, 25, 66]\n",
        "\n",
        "# Leer el tamaño de la lista\n",
        "tam = len(lista)\n",
        "\n",
        "# Leer el valor máximo y mínimo\n",
        "mayor = max(lista)\n",
        "menor = min(lista)\n",
        "\n",
        "# Calcular la suma de los valores de la lista\n",
        "suma = sum(lista)\n",
        "\n",
        "# Mostrar un mensaje al final\n",
        "print(f'La lista tiene {tam} números, donde el mayor es {mayor} y el menor es {menor}. La suma de los valores es {suma}')"
      ],
      "metadata": {
        "colab": {
          "base_uri": "https://localhost:8080/"
        },
        "id": "-cteuHyCTi4z",
        "outputId": "d34d53a9-6e12-410c-a209-8221c72f9282"
      },
      "execution_count": 4,
      "outputs": [
        {
          "output_type": "stream",
          "name": "stdout",
          "text": [
            "La lista tiene 17 números, donde el mayor es 99 y el menor es 11. La suma de los valores es 743\n"
          ]
        }
      ]
    },
    {
      "cell_type": "markdown",
      "source": [
        "2 - Escribe una función que genere la tabla de multiplicar de un número entero del 1 al 10, según la elección del usuario. Como ejemplo, para el número 7, la tabla de multiplicar se debe mostrar en el siguiente formato:"
      ],
      "metadata": {
        "id": "jl3qCohzT0ov"
      }
    },
    {
      "cell_type": "markdown",
      "source": [],
      "metadata": {
        "id": "2YcmmwjET4ay"
      }
    },
    {
      "cell_type": "markdown",
      "source": [
        "# Tabla del  7:\n",
        "# 7 x 0 = 0\n",
        "# 7 x 1 = 7\n",
        "# [...]\n",
        "# 7 x 10 = 70"
      ],
      "metadata": {
        "id": "hPO-U5mOT4oZ"
      }
    },
    {
      "cell_type": "code",
      "source": [
        "def tabla_multiplicar(numero):\n",
        "    print(f'Tabla de multiplicar del {numero}:')\n",
        "    for i in range(11):\n",
        "        print(f'{numero} x {i} = {numero * i}')\n",
        "\n",
        "# Uso de la función\n",
        "tabla_multiplicar(7)"
      ],
      "metadata": {
        "colab": {
          "base_uri": "https://localhost:8080/"
        },
        "id": "Gkt1Aw_-T1vV",
        "outputId": "94fe838c-3d84-4898-aa95-71191b7886ce"
      },
      "execution_count": 3,
      "outputs": [
        {
          "output_type": "stream",
          "name": "stdout",
          "text": [
            "Tabla de multiplicar del 7:\n",
            "7 x 0 = 0\n",
            "7 x 1 = 7\n",
            "7 x 2 = 14\n",
            "7 x 3 = 21\n",
            "7 x 4 = 28\n",
            "7 x 5 = 35\n",
            "7 x 6 = 42\n",
            "7 x 7 = 49\n",
            "7 x 8 = 56\n",
            "7 x 9 = 63\n",
            "7 x 10 = 70\n"
          ]
        }
      ]
    },
    {
      "cell_type": "markdown",
      "source": [
        "3 - Crea una función que lea la siguiente lista y devuelva una nueva lista con los múltiplos de 3:"
      ],
      "metadata": {
        "id": "VM1QZA_gT2BG"
      }
    },
    {
      "cell_type": "markdown",
      "source": [
        "[97, 80, 94, 88, 80, 1, 16, 53, 62, 32, 24, 99]"
      ],
      "metadata": {
        "id": "bbs146CaT8Ie"
      }
    },
    {
      "cell_type": "code",
      "source": [
        "def multiplos_de_tres(lista):\n",
        "    return [num for num in lista if num % 3 == 0]\n",
        "\n",
        "# Uso de la función\n",
        "lista_original = [97, 80, 94, 88, 80, 1, 16, 53, 62, 32, 24, 99]\n",
        "mult_3 = multiplos_de_tres(lista_original)\n",
        "print(mult_3)"
      ],
      "metadata": {
        "colab": {
          "base_uri": "https://localhost:8080/"
        },
        "id": "zOB3BY6cT-X3",
        "outputId": "01ccf7e6-3522-4dda-eb47-fa3021d21570"
      },
      "execution_count": 5,
      "outputs": [
        {
          "output_type": "stream",
          "name": "stdout",
          "text": [
            "[24, 99]\n"
          ]
        }
      ]
    },
    {
      "cell_type": "markdown",
      "source": [
        "4 - Crea una lista de los cuadrados de los números de la siguiente lista [1, 2, 3, 4, 5, 6, 7, 8, 9, 10]. Recuerda utilizar las funciones lambda y map() para calcular el cuadrado de cada elemento de la lista."
      ],
      "metadata": {
        "id": "9-nn9B87T-r9"
      }
    },
    {
      "cell_type": "code",
      "source": [
        "numeros = [1, 2, 3, 4, 5, 6, 7, 8, 9, 10]\n",
        "cuadrados = list(map(lambda x: x**2, numeros))\n",
        "print(cuadrados)"
      ],
      "metadata": {
        "colab": {
          "base_uri": "https://localhost:8080/"
        },
        "id": "Djf3gQAUUAwR",
        "outputId": "4cefd7bc-26e1-4b43-b240-4711153118ac"
      },
      "execution_count": 8,
      "outputs": [
        {
          "output_type": "stream",
          "name": "stdout",
          "text": [
            "[1, 4, 9, 16, 25, 36, 49, 64, 81, 100]\n"
          ]
        }
      ]
    },
    {
      "cell_type": "markdown",
      "source": [
        "## Proyectos"
      ],
      "metadata": {
        "id": "kttlPVlaUBYz"
      }
    },
    {
      "cell_type": "markdown",
      "source": [
        "5 - Has sido contratado como científico(a) de datos de una asociación de skate. Para analizar las notas recibidas por los skaters en algunas competiciones a lo largo del año, necesitas crear un código que calcule la puntuación de los atletas. Para ello, tu código debe recibir 5 notas ingresadas por los jueces."
      ],
      "metadata": {
        "id": "sZgvzIZxUEWj"
      }
    },
    {
      "cell_type": "code",
      "source": [
        "notas = [float(input(f'Ingrese la nota {i + 1}: ')) for i in range(5)]\n",
        "notas.sort()\n",
        "media = sum(notas[1:4]) / 3\n",
        "print(f'Nota de la maniobra: {media:.2f}')"
      ],
      "metadata": {
        "colab": {
          "base_uri": "https://localhost:8080/"
        },
        "id": "RjUkpF0-UH51",
        "outputId": "e38acfde-7bae-43db-a412-8ecb29f29784"
      },
      "execution_count": 9,
      "outputs": [
        {
          "output_type": "stream",
          "name": "stdout",
          "text": [
            "Ingrese la nota 1: 8\n",
            "Ingrese la nota 2: 7.7\n",
            "Ingrese la nota 3: 8.5\n",
            "Ingrese la nota 4: 9.1\n",
            "Ingrese la nota 5: 9\n",
            "Nota de la maniobra: 8.50\n"
          ]
        }
      ]
    },
    {
      "cell_type": "markdown",
      "source": [
        "6 - Para cumplir con una demanda de una institución educativa para el análisis del rendimiento de sus estudiantes, necesitas crear una función que reciba una lista de 4 notas y devuelva:"
      ],
      "metadata": {
        "id": "sA5Xp-GQUJsR"
      }
    },
    {
      "cell_type": "markdown",
      "source": [
        "# mayor nota\n",
        "# menor nota\n",
        "# media\n",
        "# situación (Aprobado(a) o Reprobado(a))\n",
        "# Uso de la función\n",
        "# Mostrar: El estudiante obtuvo una media de `media`, con la mayor nota de `mayor` puntos y la menor nota de `menor` puntos y fue `situacion`.)"
      ],
      "metadata": {
        "id": "eUA9DZQTUKVF"
      }
    },
    {
      "cell_type": "code",
      "source": [
        "def analisis_notas(notas):\n",
        "    mayor = max(notas)\n",
        "    menor = min(notas)\n",
        "    media = sum(notas) / len(notas)\n",
        "    situacion = 'Aprobado(a)' if media >= 6 else 'Reprobado(a)'\n",
        "    return mayor, menor, media, situacion\n",
        "\n",
        "# Uso de la función\n",
        "notas_estudiante = [float(input(f'Ingrese la nota {i + 1}: ')) for i in range(4)]\n",
        "resultado = analisis_notas(notas_estudiante)\n",
        "print(f'El estudiante obtuvo una media de {resultado[2]:.2f}, con la mayor nota de {resultado[0]:.2f} puntos y la menor nota de {resultado[1]:.2f} puntos y fue {resultado[3]}')\n"
      ],
      "metadata": {
        "colab": {
          "base_uri": "https://localhost:8080/"
        },
        "id": "XDyNJwURUMnI",
        "outputId": "1f9e4361-c915-4a91-dc01-3fd3c94b643f"
      },
      "execution_count": 10,
      "outputs": [
        {
          "output_type": "stream",
          "name": "stdout",
          "text": [
            "Ingrese la nota 1: 5\n",
            "Ingrese la nota 2: 2\n",
            "Ingrese la nota 3: 4.8\n",
            "Ingrese la nota 4: 4.9\n",
            "El estudiante obtuvo una media de 4.18, con la mayor nota de 5.00 puntos y la menor nota de 2.00 puntos y fue Reprobado(a)\n"
          ]
        }
      ]
    },
    {
      "cell_type": "code",
      "source": [
        "def analisis_notas(notas):\n",
        "    mayor = max(notas)\n",
        "    menor = min(notas)\n",
        "    media = sum(notas) / len(notas)\n",
        "    situacion = 'Aprobado(a)' if media >= 6 else 'Reprobado(a)'\n",
        "    return mayor, menor, media, situacion\n",
        "\n",
        "# Uso de la función\n",
        "notas_estudiante = [float(input(f'Ingrese la nota {i + 1}: ')) for i in range(4)]\n",
        "resultado = analisis_notas(notas_estudiante)\n",
        "print(f'El estudiante obtuvo una media de {resultado[2]:.2f}, con la mayor nota de {resultado[0]:.2f} puntos y la menor nota de {resultado[1]:.2f} puntos y fue {resultado[3]}')"
      ],
      "metadata": {
        "colab": {
          "base_uri": "https://localhost:8080/"
        },
        "id": "zArwbqIMY-vC",
        "outputId": "135ac9cd-e3d0-4c9a-dd4d-ed4422833425"
      },
      "execution_count": 11,
      "outputs": [
        {
          "output_type": "stream",
          "name": "stdout",
          "text": [
            "Ingrese la nota 1: 9\n",
            "Ingrese la nota 2: 7.6\n",
            "Ingrese la nota 3: 8.8\n",
            "Ingrese la nota 4: 9.7\n",
            "El estudiante obtuvo una media de 8.78, con la mayor nota de 9.70 puntos y la menor nota de 7.60 puntos y fue Aprobado(a)\n"
          ]
        }
      ]
    },
    {
      "cell_type": "markdown",
      "source": [
        "7 - Has recibido una demanda para tratar 2 listas con los nombres y apellidos de cada estudiante concatenándolos para presentar sus nombres completos en la forma Nombre Apellido. Las listas son:"
      ],
      "metadata": {
        "id": "ZdLpudVuUOqG"
      }
    },
    {
      "cell_type": "markdown",
      "source": [
        "nombres = [\"juan\", \"MaRia\", \"JOSÉ\"]\n",
        "apellidos = [\"SILVA\", \"sosa\", \"Tavares\"]\n",
        "\n",
        "# Normalizar nombres y apellidos y crear una nueva lista con los nombres completos\n",
        "# Puedes apoyarte en la función map()"
      ],
      "metadata": {
        "id": "XsEJipFqUPzW"
      }
    },
    {
      "cell_type": "code",
      "source": [
        "nombres = [\"juan\", \"MaRia\", \"JOSÉ\"]\n",
        "apellidos = [\"SILVA\", \"sosa\", \"Tavares\"]\n",
        "\n",
        "# Normalizar nombres y apellidos y crear una nueva lista con los nombres completos\n",
        "nombres_normalizados = map(lambda x: x.capitalize(), nombres)\n",
        "apellidos_normalizados = map(lambda x: x.capitalize(), apellidos)\n",
        "nombres_completos = list(map(lambda x, y: f'Nombre completo: {x} {y}', nombres_normalizados, apellidos_normalizados))\n",
        "print(nombres_completos)"
      ],
      "metadata": {
        "colab": {
          "base_uri": "https://localhost:8080/"
        },
        "id": "Ww2_R3WxUUk8",
        "outputId": "1f8c757e-6105-4cbf-9d9b-c3e119be5a22"
      },
      "execution_count": 13,
      "outputs": [
        {
          "output_type": "stream",
          "name": "stdout",
          "text": [
            "['Nombre completo: Juan Silva', 'Nombre completo: Maria Sosa', 'Nombre completo: José Tavares']\n"
          ]
        }
      ]
    },
    {
      "cell_type": "markdown",
      "source": [
        "8 - Como científico de datos en un equipo de fútbol, necesitas implementar nuevas formas de recopilación de datos sobre el rendimiento de los jugadores y del equipo en su conjunto. Tu primera acción es crear una forma de calcular la puntuación del equipo en el campeonato nacional a partir de los datos de goles marcados y recibidos en cada juego.\n",
        "\n",
        "Escribe una función llamada calcula_puntos() que recibe como parámetros dos listas de números enteros, representando los goles marcados y recibidos por el equipo en cada partido del campeonato. La función debe devolver la puntuación del equipo y el rendimiento en porcentaje, teniendo en cuenta que la victoria vale 3 puntos, el empate 1 punto y la derrota 0 puntos.\n",
        "\n",
        "Nota: si la cantidad de goles marcados en un partido es mayor que los recibidos, el equipo ganó. En caso de ser igual, el equipo empató, y si es menor, el equipo perdió. Para calcular el rendimiento, debemos hacer la razón entre la puntuación del equipo y la puntuación máxima que podría recibir.\n",
        "\n",
        "Para la prueba, utiliza las siguientes listas de goles marcados y recibidos:"
      ],
      "metadata": {
        "id": "zULgs51kUUv8"
      }
    },
    {
      "cell_type": "markdown",
      "source": [
        "goles_marcados = [2, 1, 3, 1, 0]\n",
        "goles_recibidos = [1, 2, 2, 1, 3]\n",
        "# Texto probablemente mostrado:\n",
        "# La puntuación del equipo fue `puntos` y su rendimiento fue `desempeno`%\""
      ],
      "metadata": {
        "id": "2mxaF64dUVqw"
      }
    },
    {
      "cell_type": "code",
      "source": [
        "goles_marcados = [2, 1, 3, 1, 0]\n",
        "goles_recibidos = [1, 2, 2, 1, 3]\n",
        "\n",
        "def calcula_puntos(goles_marcados, goles_recibidos):\n",
        "  puntos = 0\n",
        "  for i in range(len(goles_marcados)):\n",
        "    if goles_marcados[i] > goles_recibidos[i]:\n",
        "      puntos += 3\n",
        "    elif goles_marcados[i] == goles_recibidos[i]:\n",
        "      puntos += 1\n",
        "  aprob = 100 * puntos / (len(goles_marcados) * 3)\n",
        "  return (puntos, aprob)\n",
        "\n",
        "puntos, aprob = calcula_puntos(goles_marcados, goles_recibidos)\n",
        "print(f'La puntuación del equipo fue de {puntos} y su rendimiento fue de {round(aprob)}%')"
      ],
      "metadata": {
        "colab": {
          "base_uri": "https://localhost:8080/"
        },
        "id": "bMQkyYgxUY94",
        "outputId": "3cd12443-b180-4cb5-8b34-b35459cf3b6d"
      },
      "execution_count": 15,
      "outputs": [
        {
          "output_type": "stream",
          "name": "stdout",
          "text": [
            "La puntuación del equipo fue de 7 y su rendimiento fue de 47%\n"
          ]
        }
      ]
    },
    {
      "cell_type": "markdown",
      "source": [
        "9 - Te han desafiado a crear un código que calcule los gastos de un viaje a una de las cuatro ciudades desde Recife, siendo ellas: Salvador, Fortaleza, Natal y Aracaju.\n",
        "\n",
        "El costo diario del hotel es de 150 reales en todas ellas y el consumo de gasolina en el viaje en coche es de 14 km/l, siendo que el precio de la gasolina es de 5 reales por litro. Los gastos con paseos y alimentación a realizar en cada una de ellas por día serían [200, 400, 250, 300], respectivamente.\n",
        "\n",
        "Sabiendo que las distancias entre Recife y cada una de las ciudades son aproximadamente [850, 800, 300, 550] km, crea tres funciones: la primera función calcula los gastos de hotel (gasto_hotel), la segunda calcula los gastos de gasolina (gasto_gasolina) y la tercera los gastos de paseo y alimentación (gasto_paseo).\n",
        "\n",
        "Para probar, simula un viaje de 3 días a Salvador desde Recife. Considera el viaje de ida y vuelta en coche."
      ],
      "metadata": {
        "id": "0V86QJbuUZHv"
      }
    },
    {
      "cell_type": "markdown",
      "source": [
        "# Texto probablemente mostrado:\n",
        "# Con base en los gastos definidos, un viaje de [dias] días a [ciudad] desde\n",
        "# Recife costaría [gastos] reales."
      ],
      "metadata": {
        "id": "E-bqzJglUZta"
      }
    },
    {
      "cell_type": "code",
      "source": [
        "# Datos de cada ciudad\n",
        "ciudades = {\n",
        "    \"Salvador\": {\"distancia\": 850, \"paseo_dia\": 200},\n",
        "    \"Fortaleza\": {\"distancia\": 800, \"paseo_dia\": 400},\n",
        "    \"Natal\": {\"distancia\": 300, \"paseo_dia\": 250},\n",
        "    \"Aracaju\": {\"distancia\": 550, \"paseo_dia\": 300}\n",
        "}\n",
        "\n",
        "# Constantes\n",
        "KM_POR_LITRO = 14\n",
        "PRECIO_GASOLINA = 5\n",
        "PRECIO_HOTEL_POR_DIA = 150\n",
        "\n",
        "# Entradas del usuario\n",
        "dias = int(input(\"¿Cuántos días? \"))\n",
        "ciudad = input(\"¿Cuál es la ciudad? [Salvador, Fortaleza, Natal o Aracaju]: \").title()\n",
        "\n",
        "if ciudad not in ciudades:\n",
        "    print(\"Ciudad no válida. Intente nuevamente.\")\n",
        "else:\n",
        "    def calcular_gasto_hotel(dias):\n",
        "        return PRECIO_HOTEL_POR_DIA * dias\n",
        "\n",
        "    def calcular_gasto_gasolina(distancia):\n",
        "        return (2 * distancia * PRECIO_GASOLINA) / KM_POR_LITRO\n",
        "\n",
        "    def calcular_gasto_paseo(paseo_dia, dias):\n",
        "        return paseo_dia * dias\n",
        "\n",
        "    datos = ciudades[ciudad]\n",
        "    total = (\n",
        "        calcular_gasto_hotel(dias) +\n",
        "        calcular_gasto_gasolina(datos[\"distancia\"]) +\n",
        "        calcular_gasto_paseo(datos[\"paseo_dia\"], dias)\n",
        "    )\n",
        "\n",
        "    print(f\"\\nCon base en los gastos definidos, un viaje de {dias} días a {ciudad} desde Recife costaría R${round(total, 2)}\")\n"
      ],
      "metadata": {
        "colab": {
          "base_uri": "https://localhost:8080/"
        },
        "id": "-VsLJOW3Ub6y",
        "outputId": "c33d43d4-9f9d-4d50-dab0-8e69b0bcfeb6"
      },
      "execution_count": 16,
      "outputs": [
        {
          "output_type": "stream",
          "name": "stdout",
          "text": [
            "¿Cuántos días? 5\n",
            "¿Cuál es la ciudad? [Salvador, Fortaleza, Natal o Aracaju]: Salvador\n",
            "\n",
            "Con base en los gastos definidos, un viaje de 5 días a Salvador desde Recife costaría R$2357.14\n"
          ]
        }
      ]
    },
    {
      "cell_type": "markdown",
      "source": [
        "10 - Has comenzado una pasantía en una empresa que trabaja con procesamiento de lenguaje natural (NLP). Tu líder te solicitó que crees un fragmento de código que reciba una frase escrita por el usuario y filtre solo las palabras con un tamaño mayor o igual a 5, mostrándolas en una lista. Esta demanda se centra en el análisis del patrón de comportamiento de las personas al escribir palabras de esta cantidad de caracteres o más.\n",
        "\n",
        "Consejo: utiliza las funciones lambda y filter() para filtrar estas palabras. Recordando que la función integrada filter() recibe una función (en nuestro caso, una función lambda) y filtra un iterable según la función. Para tratar la frase, utiliza replace() para cambiar ',' '.', '!' y '?' por espacio.\n",
        "\n",
        "Utiliza la frase \"Aprender Python aquí en Alura es muy bueno\" para probar el código."
      ],
      "metadata": {
        "id": "yMgOiDR-UcUk"
      }
    },
    {
      "cell_type": "code",
      "source": [
        "# Solicitando una frase y separándola por espacios. Usando replace para cambiar\n",
        "# puntuaciones por espacios.\n",
        "\n",
        "frase = input(\"Escribe una frase: \")\n",
        "frase = frase.replace(',',' ').replace('.',' ').replace('!',' ').replace('?',' ').split()\n",
        "\n",
        "# Filtrando la frase en formato de lista, pasando a la lista tamaño\n",
        "# solo las palabras con 5 o más caracteres e imprimiéndola en pantalla\n",
        "\n",
        "tamano = list(filter(lambda x: len(x) >= 5, frase))\n",
        "print(tamano)\n"
      ],
      "metadata": {
        "colab": {
          "base_uri": "https://localhost:8080/"
        },
        "id": "q1_V_fQPUfIa",
        "outputId": "5f771538-9dad-4d4d-adb1-cf1ee8c6e413"
      },
      "execution_count": 17,
      "outputs": [
        {
          "output_type": "stream",
          "name": "stdout",
          "text": [
            "Escribe una frase: Aprender Python aquí en Alura es muy bueno\n",
            "['Aprender', 'Python', 'Alura', 'bueno']\n"
          ]
        }
      ]
    }
  ]
}